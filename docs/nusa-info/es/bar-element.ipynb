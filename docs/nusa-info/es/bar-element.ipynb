{
 "cells": [
  {
   "cell_type": "markdown",
   "metadata": {},
   "source": [
    "# Elemento `Bar`"
   ]
  },
  {
   "cell_type": "markdown",
   "metadata": {},
   "source": [
    "## Ejemplo 1\n",
    "\n",
    "<img src=\"src/bar-element/bar_01.png\" width=\"400px\">"
   ]
  },
  {
   "cell_type": "code",
   "execution_count": 1,
   "metadata": {},
   "outputs": [],
   "source": [
    "from nusa import *\n",
    "from math import pi\n",
    "\n",
    "# Input data \n",
    "Es = 200e3\n",
    "As = (pi/4.)*(40)**2\n",
    "Eb = 105e3\n",
    "Ab = (pi/4.)*(30)**2\n",
    "Ps = 60e3\n",
    "Pb = 40e3\n",
    "\n",
    "# Model\n",
    "m1 = BarModel(\"Bar Model\")\n",
    "# Nodes\n",
    "n1 = Node((0,0))\n",
    "n2 = Node((180,0))\n",
    "n3 = Node((180+120,0))\n",
    "n4 = Node((180+120+100,0))\n",
    "n5 = Node((180+120+200,0))\n",
    "# Elements\n",
    "e1 = Bar((n1,n2),Es,As)\n",
    "e2 = Bar((n2,n3),Es,As)\n",
    "e3 = Bar((n3,n4),Eb,Ab)\n",
    "e4 = Bar((n4,n5),Eb,Ab)\n",
    "\n",
    "# Add elements \n",
    "for nd in (n1,n2,n3,n4,n5):\n",
    "    m1.add_node(nd)\n",
    "for el in (e1,e2,e3,e4):\n",
    "    m1.add_element(el)\n",
    "\n",
    "m1.add_constraint(n1,ux=0) # fixed \n",
    "m1.add_constraint(n5,ux=0) # fixed\n",
    "m1.add_force(n2,(Ps,))\n",
    "m1.add_force(n4,(Pb,))\n",
    "\n",
    "m1.solve() # Solve model"
   ]
  },
  {
   "cell_type": "code",
   "execution_count": 2,
   "metadata": {},
   "outputs": [
    {
     "name": "stdout",
     "output_type": "stream",
     "text": [
      "0 -62808.879263670824\n",
      "1 59999.999999999985\n",
      "2 2.9103830456733704e-11\n",
      "3 40000.0\n",
      "4 -37191.12073632918\n"
     ]
    }
   ],
   "source": [
    "for n in m1.get_nodes():\n",
    "    print(n.label, n.fx)"
   ]
  },
  {
   "cell_type": "code",
   "execution_count": 3,
   "metadata": {},
   "outputs": [
    {
     "name": "stdout",
     "output_type": "stream",
     "text": [
      "0 0\n",
      "1 0.04498354622193865\n",
      "2 0.04632468728002326\n",
      "3 0.050109212311655285\n",
      "4 0\n"
     ]
    }
   ],
   "source": [
    "for n in m1.get_nodes():\n",
    "    print(n.label, n.ux)"
   ]
  },
  {
   "cell_type": "markdown",
   "metadata": {},
   "source": [
    "## Ejemplo 2"
   ]
  },
  {
   "cell_type": "code",
   "execution_count": null,
   "metadata": {
    "collapsed": true
   },
   "outputs": [],
   "source": []
  }
 ],
 "metadata": {
  "kernelspec": {
   "display_name": "Python 3",
   "language": "python",
   "name": "python3"
  },
  "language_info": {
   "codemirror_mode": {
    "name": "ipython",
    "version": 3
   },
   "file_extension": ".py",
   "mimetype": "text/x-python",
   "name": "python",
   "nbconvert_exporter": "python",
   "pygments_lexer": "ipython3",
   "version": "3.6.5"
  }
 },
 "nbformat": 4,
 "nbformat_minor": 1
}
